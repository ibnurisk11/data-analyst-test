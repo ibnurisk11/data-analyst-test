{
 "cells": [
  {
   "cell_type": "markdown",
   "id": "ab9a5efe",
   "metadata": {},
   "source": [
    "#### Nama : Ibnu Riski\n",
    "#### Email : ibnuriski28@gmail.com\n",
    "#### Posisi : Data Analyst (Technology)"
   ]
  },
  {
   "cell_type": "markdown",
   "id": "d7d17049",
   "metadata": {},
   "source": []
  }
 ],
 "metadata": {
  "language_info": {
   "name": "python"
  }
 },
 "nbformat": 4,
 "nbformat_minor": 5
}
